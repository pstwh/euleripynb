{
 "cells": [
  {
   "cell_type": "code",
   "execution_count": 86,
   "metadata": {},
   "outputs": [],
   "source": [
    "import os\n",
    "import requests\n",
    "from bs4 import BeautifulSoup\n",
    "\n",
    "def generate_ipynb(directory, n):    \n",
    "    problem = BeautifulSoup(\n",
    "        requests.request(\"GET\", \"http://projecteuler.net/problem={}\".format(n)).text,\n",
    "        'html.parser'\n",
    "    ).find('div', attrs={'id': 'content'})\n",
    "    \n",
    "    title, solved, difficulty = problem.find('h3').text.split(';')\n",
    "    subtitle = problem.find('h2').text\n",
    "    content = problem.find('div', attrs={'class': 'problem_content'}).text\n",
    "    \n",
    "    ipynb = \"{}\\n{}\\n{}\\n{}\\n{}\"\n",
    "    \n",
    "    file = open('{}/problem_{}.ipynb'.format(directory, n),'w').write(\n",
    "        ipynb.format(title, solved, difficulty, subtitle, content)\n",
    "    )\n",
    "\n",
    "if __name__ == '__main__':\n",
    "    directory = \"problems\"\n",
    "    if not os.path.exists(directory):\n",
    "        os.makedirs(directory)\n",
    "\n",
    "    d =  requests.request(\"GET\", \"http://projecteuler.net/recent\")\n",
    "    s = BeautifulSoup(d.text, 'html.parser')\n",
    "    last_problem = s.find_all('td', attrs={'class': 'id_column'})[0].text\n",
    "\n",
    "    for n in range(1, int(last_problem)+1):\n",
    "        generate_ipynb(directory, n)"
   ]
  }
 ],
 "metadata": {
  "kernelspec": {
   "display_name": "Python 3",
   "language": "python",
   "name": "python3"
  },
  "language_info": {
   "codemirror_mode": {
    "name": "ipython",
    "version": 3
   },
   "file_extension": ".py",
   "mimetype": "text/x-python",
   "name": "python",
   "nbconvert_exporter": "python",
   "pygments_lexer": "ipython3",
   "version": "3.6.4"
  }
 },
 "nbformat": 4,
 "nbformat_minor": 2
}
